{
 "cells": [
  {
   "cell_type": "code",
   "execution_count": 1,
   "metadata": {},
   "outputs": [
    {
     "name": "stdout",
     "output_type": "stream",
     "text": [
      "Requirement already satisfied: treform in /usr/local/python/3.10.4/lib/python3.10/site-packages (1.1.17)\n",
      "Requirement already satisfied: networkx in /usr/local/python/3.10.4/lib/python3.10/site-packages (from treform) (2.8.8)\n",
      "Requirement already satisfied: konlpy in /usr/local/python/3.10.4/lib/python3.10/site-packages (from treform) (0.6.0)\n",
      "Requirement already satisfied: pytorch-crf in /usr/local/python/3.10.4/lib/python3.10/site-packages (from treform) (0.7.2)\n",
      "Requirement already satisfied: newspaper3k in /usr/local/python/3.10.4/lib/python3.10/site-packages (from treform) (0.2.8)\n",
      "Requirement already satisfied: benepar>=0.2.0 in /usr/local/python/3.10.4/lib/python3.10/site-packages (from treform) (0.2.0)\n",
      "Requirement already satisfied: numpy in /home/codespace/.local/lib/python3.10/site-packages (from treform) (1.24.2)\n",
      "Requirement already satisfied: pycrfsuite-spacing in /usr/local/python/3.10.4/lib/python3.10/site-packages (from treform) (1.0.2)\n",
      "Requirement already satisfied: nltk in /usr/local/python/3.10.4/lib/python3.10/site-packages (from treform) (3.8.1)\n",
      "Requirement already satisfied: cython in /usr/local/python/3.10.4/lib/python3.10/site-packages (from treform) (0.29.34)\n",
      "Requirement already satisfied: symspellpy in /usr/local/python/3.10.4/lib/python3.10/site-packages (from treform) (6.7.7)\n",
      "Requirement already satisfied: bokeh in /usr/local/python/3.10.4/lib/python3.10/site-packages (from treform) (3.1.0)\n",
      "Requirement already satisfied: transformers in /usr/local/python/3.10.4/lib/python3.10/site-packages (from treform) (4.28.1)\n",
      "Requirement already satisfied: node2vec in /usr/local/python/3.10.4/lib/python3.10/site-packages (from treform) (0.4.6)\n",
      "Requirement already satisfied: soylemma in /usr/local/python/3.10.4/lib/python3.10/site-packages (from treform) (0.2.0)\n",
      "Requirement already satisfied: sklearn-crfsuite in /usr/local/python/3.10.4/lib/python3.10/site-packages (from treform) (0.3.6)\n",
      "Requirement already satisfied: scikit-learn in /home/codespace/.local/lib/python3.10/site-packages (from treform) (1.2.2)\n",
      "Requirement already satisfied: seaborn in /home/codespace/.local/lib/python3.10/site-packages (from treform) (0.12.2)\n",
      "Requirement already satisfied: selenium in /usr/local/python/3.10.4/lib/python3.10/site-packages (from treform) (4.8.3)\n",
      "Requirement already satisfied: torch in /usr/local/python/3.10.4/lib/python3.10/site-packages (from treform) (1.12.1)\n",
      "Requirement already satisfied: pyLDAvis in /usr/local/python/3.10.4/lib/python3.10/site-packages (from treform) (3.4.0)\n",
      "Requirement already satisfied: wordcloud in /usr/local/python/3.10.4/lib/python3.10/site-packages (from treform) (1.8.2.2)\n",
      "Requirement already satisfied: soynlp in /usr/local/python/3.10.4/lib/python3.10/site-packages (from treform) (0.0.493)\n",
      "Requirement already satisfied: beautifulsoup4 in /home/codespace/.local/lib/python3.10/site-packages (from treform) (4.12.0)\n",
      "Requirement already satisfied: gensim in /usr/local/python/3.10.4/lib/python3.10/site-packages (from treform) (4.3.1)\n",
      "Requirement already satisfied: tomotopy in /usr/local/python/3.10.4/lib/python3.10/site-packages (from treform) (0.12.4)\n",
      "Requirement already satisfied: kiwipiepy in /usr/local/python/3.10.4/lib/python3.10/site-packages (from treform) (0.15.0)\n",
      "Requirement already satisfied: bs4 in /usr/local/python/3.10.4/lib/python3.10/site-packages (from treform) (0.0.1)\n",
      "Requirement already satisfied: kss in /usr/local/python/3.10.4/lib/python3.10/site-packages (from treform) (4.5.1)\n",
      "Requirement already satisfied: matplotlib in /usr/local/python/3.10.4/lib/python3.10/site-packages (from treform) (3.7.0)\n",
      "Requirement already satisfied: krwordrank in /usr/local/python/3.10.4/lib/python3.10/site-packages (from treform) (1.0.3)\n",
      "Requirement already satisfied: scipy in /home/codespace/.local/lib/python3.10/site-packages (from treform) (1.10.1)\n",
      "Requirement already satisfied: seqeval in /usr/local/python/3.10.4/lib/python3.10/site-packages (from treform) (1.2.2)\n",
      "Requirement already satisfied: lxml in /usr/local/python/3.10.4/lib/python3.10/site-packages (from treform) (4.9.2)\n",
      "Requirement already satisfied: tokenizers>=0.9.4 in /usr/local/python/3.10.4/lib/python3.10/site-packages (from benepar>=0.2.0->treform) (0.13.3)\n",
      "Requirement already satisfied: protobuf in /usr/local/python/3.10.4/lib/python3.10/site-packages (from benepar>=0.2.0->treform) (4.22.1)\n",
      "Requirement already satisfied: sentencepiece>=0.1.91 in /usr/local/python/3.10.4/lib/python3.10/site-packages (from benepar>=0.2.0->treform) (0.1.97)\n",
      "Requirement already satisfied: torch-struct>=0.5 in /usr/local/python/3.10.4/lib/python3.10/site-packages (from benepar>=0.2.0->treform) (0.5)\n",
      "Requirement already satisfied: spacy>=2.0.9 in /usr/local/python/3.10.4/lib/python3.10/site-packages (from benepar>=0.2.0->treform) (3.5.1)\n",
      "Requirement already satisfied: joblib in /home/codespace/.local/lib/python3.10/site-packages (from nltk->treform) (1.2.0)\n",
      "Requirement already satisfied: tqdm in /usr/local/python/3.10.4/lib/python3.10/site-packages (from nltk->treform) (4.64.0)\n",
      "Requirement already satisfied: click in /usr/local/python/3.10.4/lib/python3.10/site-packages (from nltk->treform) (8.1.3)\n",
      "Requirement already satisfied: regex>=2021.8.3 in /usr/local/python/3.10.4/lib/python3.10/site-packages (from nltk->treform) (2023.3.23)\n",
      "Requirement already satisfied: typing-extensions in /home/codespace/.local/lib/python3.10/site-packages (from torch->treform) (4.5.0)\n",
      "Requirement already satisfied: soupsieve>1.2 in /home/codespace/.local/lib/python3.10/site-packages (from beautifulsoup4->treform) (2.4)\n",
      "Requirement already satisfied: PyYAML>=3.10 in /home/codespace/.local/lib/python3.10/site-packages (from bokeh->treform) (6.0)\n",
      "Requirement already satisfied: xyzservices>=2021.09.1 in /usr/local/python/3.10.4/lib/python3.10/site-packages (from bokeh->treform) (2023.2.0)\n",
      "Requirement already satisfied: Jinja2>=2.9 in /home/codespace/.local/lib/python3.10/site-packages (from bokeh->treform) (3.1.2)\n",
      "Requirement already satisfied: pandas>=1.2 in /usr/local/python/3.10.4/lib/python3.10/site-packages (from bokeh->treform) (1.5.3)\n",
      "Requirement already satisfied: packaging>=16.8 in /home/codespace/.local/lib/python3.10/site-packages (from bokeh->treform) (23.0)\n",
      "Requirement already satisfied: tornado>=5.1 in /home/codespace/.local/lib/python3.10/site-packages (from bokeh->treform) (6.2)\n",
      "Requirement already satisfied: pillow>=7.1.0 in /home/codespace/.local/lib/python3.10/site-packages (from bokeh->treform) (9.5.0)\n",
      "Requirement already satisfied: contourpy>=1 in /home/codespace/.local/lib/python3.10/site-packages (from bokeh->treform) (1.0.7)\n",
      "Requirement already satisfied: smart-open>=1.8.1 in /usr/local/python/3.10.4/lib/python3.10/site-packages (from gensim->treform) (6.3.0)\n",
      "Requirement already satisfied: dataclasses in /usr/local/python/3.10.4/lib/python3.10/site-packages (from kiwipiepy->treform) (0.6)\n",
      "Requirement already satisfied: kiwipiepy-model~=0.15 in /usr/local/python/3.10.4/lib/python3.10/site-packages (from kiwipiepy->treform) (0.15.0)\n",
      "Requirement already satisfied: JPype1>=0.7.0 in /usr/local/python/3.10.4/lib/python3.10/site-packages (from konlpy->treform) (1.4.1)\n",
      "Requirement already satisfied: threadpoolctl>=2.0.0 in /home/codespace/.local/lib/python3.10/site-packages (from scikit-learn->treform) (3.1.0)\n",
      "Requirement already satisfied: emoji==1.2.0 in /usr/local/python/3.10.4/lib/python3.10/site-packages (from kss->treform) (1.2.0)\n",
      "Requirement already satisfied: pecab in /usr/local/python/3.10.4/lib/python3.10/site-packages (from kss->treform) (1.0.8)\n",
      "Requirement already satisfied: kiwisolver>=1.0.1 in /home/codespace/.local/lib/python3.10/site-packages (from matplotlib->treform) (1.4.4)\n",
      "Requirement already satisfied: cycler>=0.10 in /home/codespace/.local/lib/python3.10/site-packages (from matplotlib->treform) (0.11.0)\n",
      "Requirement already satisfied: pyparsing>=2.3.1 in /home/codespace/.local/lib/python3.10/site-packages (from matplotlib->treform) (3.0.9)\n",
      "Requirement already satisfied: python-dateutil>=2.7 in /home/codespace/.local/lib/python3.10/site-packages (from matplotlib->treform) (2.8.2)\n",
      "Requirement already satisfied: fonttools>=4.22.0 in /home/codespace/.local/lib/python3.10/site-packages (from matplotlib->treform) (4.39.3)\n",
      "Requirement already satisfied: requests>=2.10.0 in /home/codespace/.local/lib/python3.10/site-packages (from newspaper3k->treform) (2.28.2)\n",
      "Requirement already satisfied: cssselect>=0.9.2 in /usr/local/python/3.10.4/lib/python3.10/site-packages (from newspaper3k->treform) (1.2.0)\n",
      "Requirement already satisfied: tldextract>=2.0.1 in /usr/local/python/3.10.4/lib/python3.10/site-packages (from newspaper3k->treform) (3.4.0)\n",
      "Requirement already satisfied: feedparser>=5.2.1 in /usr/local/python/3.10.4/lib/python3.10/site-packages (from newspaper3k->treform) (6.0.10)\n",
      "Requirement already satisfied: feedfinder2>=0.0.4 in /usr/local/python/3.10.4/lib/python3.10/site-packages (from newspaper3k->treform) (0.0.4)\n",
      "Requirement already satisfied: tinysegmenter==0.3 in /usr/local/python/3.10.4/lib/python3.10/site-packages (from newspaper3k->treform) (0.3)\n",
      "Requirement already satisfied: jieba3k>=0.35.1 in /usr/local/python/3.10.4/lib/python3.10/site-packages (from newspaper3k->treform) (0.35.1)\n",
      "Requirement already satisfied: python-crfsuite>=0.9.2 in /usr/local/python/3.10.4/lib/python3.10/site-packages (from pycrfsuite-spacing->treform) (0.9.9)\n",
      "Requirement already satisfied: setuptools in /home/codespace/.local/lib/python3.10/site-packages (from pyLDAvis->treform) (67.6.1)\n",
      "Requirement already satisfied: funcy in /usr/local/python/3.10.4/lib/python3.10/site-packages (from pyLDAvis->treform) (2.0)\n",
      "Requirement already satisfied: numexpr in /usr/local/python/3.10.4/lib/python3.10/site-packages (from pyLDAvis->treform) (2.8.4)\n",
      "Requirement already satisfied: trio-websocket~=0.9 in /usr/local/python/3.10.4/lib/python3.10/site-packages (from selenium->treform) (0.10.2)\n",
      "Requirement already satisfied: trio~=0.17 in /usr/local/python/3.10.4/lib/python3.10/site-packages (from selenium->treform) (0.22.0)\n",
      "Requirement already satisfied: certifi>=2021.10.8 in /home/codespace/.local/lib/python3.10/site-packages (from selenium->treform) (2022.12.7)\n",
      "Requirement already satisfied: urllib3[socks]~=1.26 in /home/codespace/.local/lib/python3.10/site-packages (from selenium->treform) (1.26.15)\n",
      "Requirement already satisfied: six in /home/codespace/.local/lib/python3.10/site-packages (from sklearn-crfsuite->treform) (1.16.0)\n",
      "Requirement already satisfied: tabulate in /usr/local/python/3.10.4/lib/python3.10/site-packages (from sklearn-crfsuite->treform) (0.9.0)\n",
      "Requirement already satisfied: psutil>=5.0.1 in /home/codespace/.local/lib/python3.10/site-packages (from soynlp->treform) (5.9.4)\n",
      "Requirement already satisfied: editdistpy>=0.1.3 in /usr/local/python/3.10.4/lib/python3.10/site-packages (from symspellpy->treform) (0.1.3)\n",
      "Requirement already satisfied: filelock in /home/codespace/.local/lib/python3.10/site-packages (from transformers->treform) (3.10.7)\n",
      "Requirement already satisfied: huggingface-hub<1.0,>=0.11.0 in /usr/local/python/3.10.4/lib/python3.10/site-packages (from transformers->treform) (0.13.3)\n",
      "Requirement already satisfied: sgmllib3k in /usr/local/python/3.10.4/lib/python3.10/site-packages (from feedparser>=5.2.1->newspaper3k->treform) (1.0.0)\n",
      "Requirement already satisfied: MarkupSafe>=2.0 in /home/codespace/.local/lib/python3.10/site-packages (from Jinja2>=2.9->bokeh->treform) (2.1.2)\n",
      "Requirement already satisfied: pytz>=2020.1 in /home/codespace/.local/lib/python3.10/site-packages (from pandas>=1.2->bokeh->treform) (2023.3)\n",
      "Requirement already satisfied: idna<4,>=2.5 in /home/codespace/.local/lib/python3.10/site-packages (from requests>=2.10.0->newspaper3k->treform) (3.4)\n",
      "Requirement already satisfied: charset-normalizer<4,>=2 in /home/codespace/.local/lib/python3.10/site-packages (from requests>=2.10.0->newspaper3k->treform) (3.1.0)\n",
      "Requirement already satisfied: murmurhash<1.1.0,>=0.28.0 in /usr/local/python/3.10.4/lib/python3.10/site-packages (from spacy>=2.0.9->benepar>=0.2.0->treform) (1.0.9)\n",
      "Requirement already satisfied: cymem<2.1.0,>=2.0.2 in /usr/local/python/3.10.4/lib/python3.10/site-packages (from spacy>=2.0.9->benepar>=0.2.0->treform) (2.0.7)\n",
      "Requirement already satisfied: catalogue<2.1.0,>=2.0.6 in /usr/local/python/3.10.4/lib/python3.10/site-packages (from spacy>=2.0.9->benepar>=0.2.0->treform) (2.0.8)\n",
      "Requirement already satisfied: thinc<8.2.0,>=8.1.8 in /usr/local/python/3.10.4/lib/python3.10/site-packages (from spacy>=2.0.9->benepar>=0.2.0->treform) (8.1.9)\n",
      "Requirement already satisfied: pathy>=0.10.0 in /usr/local/python/3.10.4/lib/python3.10/site-packages (from spacy>=2.0.9->benepar>=0.2.0->treform) (0.10.1)\n",
      "Requirement already satisfied: wasabi<1.2.0,>=0.9.1 in /usr/local/python/3.10.4/lib/python3.10/site-packages (from spacy>=2.0.9->benepar>=0.2.0->treform) (1.1.1)\n",
      "Requirement already satisfied: pydantic!=1.8,!=1.8.1,<1.11.0,>=1.7.4 in /usr/local/python/3.10.4/lib/python3.10/site-packages (from spacy>=2.0.9->benepar>=0.2.0->treform) (1.10.7)\n",
      "Requirement already satisfied: spacy-legacy<3.1.0,>=3.0.11 in /usr/local/python/3.10.4/lib/python3.10/site-packages (from spacy>=2.0.9->benepar>=0.2.0->treform) (3.0.12)\n",
      "Requirement already satisfied: langcodes<4.0.0,>=3.2.0 in /usr/local/python/3.10.4/lib/python3.10/site-packages (from spacy>=2.0.9->benepar>=0.2.0->treform) (3.3.0)\n",
      "Requirement already satisfied: typer<0.8.0,>=0.3.0 in /usr/local/python/3.10.4/lib/python3.10/site-packages (from spacy>=2.0.9->benepar>=0.2.0->treform) (0.7.0)\n",
      "Requirement already satisfied: spacy-loggers<2.0.0,>=1.0.0 in /usr/local/python/3.10.4/lib/python3.10/site-packages (from spacy>=2.0.9->benepar>=0.2.0->treform) (1.0.4)\n",
      "Requirement already satisfied: preshed<3.1.0,>=3.0.2 in /usr/local/python/3.10.4/lib/python3.10/site-packages (from spacy>=2.0.9->benepar>=0.2.0->treform) (3.0.8)\n",
      "Requirement already satisfied: srsly<3.0.0,>=2.4.3 in /usr/local/python/3.10.4/lib/python3.10/site-packages (from spacy>=2.0.9->benepar>=0.2.0->treform) (2.4.6)\n",
      "Requirement already satisfied: requests-file>=1.4 in /usr/local/python/3.10.4/lib/python3.10/site-packages (from tldextract>=2.0.1->newspaper3k->treform) (1.5.1)\n",
      "Requirement already satisfied: async-generator>=1.9 in /usr/local/python/3.10.4/lib/python3.10/site-packages (from trio~=0.17->selenium->treform) (1.10)\n",
      "Requirement already satisfied: outcome in /usr/local/python/3.10.4/lib/python3.10/site-packages (from trio~=0.17->selenium->treform) (1.2.0)\n",
      "Requirement already satisfied: sniffio in /home/codespace/.local/lib/python3.10/site-packages (from trio~=0.17->selenium->treform) (1.3.0)\n",
      "Requirement already satisfied: attrs>=19.2.0 in /home/codespace/.local/lib/python3.10/site-packages (from trio~=0.17->selenium->treform) (22.2.0)\n",
      "Requirement already satisfied: sortedcontainers in /usr/local/python/3.10.4/lib/python3.10/site-packages (from trio~=0.17->selenium->treform) (2.4.0)\n",
      "Requirement already satisfied: exceptiongroup>=1.0.0rc9 in /usr/local/python/3.10.4/lib/python3.10/site-packages (from trio~=0.17->selenium->treform) (1.1.1)\n",
      "Requirement already satisfied: wsproto>=0.14 in /usr/local/python/3.10.4/lib/python3.10/site-packages (from trio-websocket~=0.9->selenium->treform) (1.2.0)\n",
      "Requirement already satisfied: PySocks!=1.5.7,<2.0,>=1.5.6 in /usr/local/python/3.10.4/lib/python3.10/site-packages (from urllib3[socks]~=1.26->selenium->treform) (1.7.1)\n",
      "Requirement already satisfied: pyarrow in /usr/local/python/3.10.4/lib/python3.10/site-packages (from pecab->kss->treform) (11.0.0)\n",
      "Requirement already satisfied: pytest in /usr/local/python/3.10.4/lib/python3.10/site-packages (from pecab->kss->treform) (7.2.2)\n",
      "Requirement already satisfied: blis<0.8.0,>=0.7.8 in /usr/local/python/3.10.4/lib/python3.10/site-packages (from thinc<8.2.0,>=8.1.8->spacy>=2.0.9->benepar>=0.2.0->treform) (0.7.9)\n",
      "Requirement already satisfied: confection<1.0.0,>=0.0.1 in /usr/local/python/3.10.4/lib/python3.10/site-packages (from thinc<8.2.0,>=8.1.8->spacy>=2.0.9->benepar>=0.2.0->treform) (0.0.4)\n",
      "Requirement already satisfied: h11<1,>=0.9.0 in /usr/local/python/3.10.4/lib/python3.10/site-packages (from wsproto>=0.14->trio-websocket~=0.9->selenium->treform) (0.14.0)\n",
      "Requirement already satisfied: iniconfig in /usr/local/python/3.10.4/lib/python3.10/site-packages (from pytest->pecab->kss->treform) (2.0.0)\n",
      "Requirement already satisfied: tomli>=1.0.0 in /home/codespace/.local/lib/python3.10/site-packages (from pytest->pecab->kss->treform) (2.0.1)\n",
      "Requirement already satisfied: pluggy<2.0,>=0.12 in /usr/local/python/3.10.4/lib/python3.10/site-packages (from pytest->pecab->kss->treform) (1.0.0)\n",
      "\n",
      "\u001b[1m[\u001b[0m\u001b[34;49mnotice\u001b[0m\u001b[1;39;49m]\u001b[0m\u001b[39;49m A new release of pip is available: \u001b[0m\u001b[31;49m23.0.1\u001b[0m\u001b[39;49m -> \u001b[0m\u001b[32;49m23.1.2\u001b[0m\n",
      "\u001b[1m[\u001b[0m\u001b[34;49mnotice\u001b[0m\u001b[1;39;49m]\u001b[0m\u001b[39;49m To update, run: \u001b[0m\u001b[32;49mpip install --upgrade pip\u001b[0m\n",
      "Note: you may need to restart the kernel to use updated packages.\n",
      "--2023-05-10 02:31:51--  https://raw.githubusercontent.com/aria1th/treform/main/examples/ExampleManager.py\n",
      "Resolving raw.githubusercontent.com (raw.githubusercontent.com)... 185.199.111.133, 185.199.110.133, 185.199.109.133, ...\n",
      "Connecting to raw.githubusercontent.com (raw.githubusercontent.com)|185.199.111.133|:443... connected.\n",
      "HTTP request sent, awaiting response... 200 OK\n",
      "Length: 4017 (3.9K) [text/plain]\n",
      "Saving to: ‘ExampleManager.py.3’\n",
      "\n",
      "ExampleManager.py.3 100%[===================>]   3.92K  --.-KB/s    in 0s      \n",
      "\n",
      "2023-05-10 02:31:51 (36.6 MB/s) - ‘ExampleManager.py.3’ saved [4017/4017]\n",
      "\n"
     ]
    }
   ],
   "source": [
    "%pip install treform\n",
    "# download https://github.com/aria1th/treform/blob/main/examples/ExampleManager.py as\n",
    "#https://raw.githubusercontent.com/aria1th/treform/main/examples/ExampleManager.py\n",
    "!wget https://raw.githubusercontent.com/aria1th/treform/main/examples/ExampleManager.py\n",
    "# download https://github.com/aria1th/treform/blob/main/examples/test_document_clustering.py\n"
   ]
  },
  {
   "cell_type": "code",
   "execution_count": 2,
   "metadata": {},
   "outputs": [
    {
     "name": "stdout",
     "output_type": "stream",
     "text": [
      "log_path: None\n",
      "error_log_path: None\n",
      "log level: INFO\n",
      "NumExpr defaulting to 4 threads.\n"
     ]
    }
   ],
   "source": [
    "from ExampleManager import PathManager"
   ]
  },
  {
   "cell_type": "code",
   "execution_count": 3,
   "metadata": {},
   "outputs": [],
   "source": [
    "\n",
    "import treform as ptm\n",
    "from treform.document_clustering.documentclustering import DocumentClustering\n"
   ]
  },
  {
   "cell_type": "code",
   "execution_count": 4,
   "metadata": {},
   "outputs": [],
   "source": [
    "corpus = ptm.CorpusFromFieldDelimitedFile(str(PathManager('../sample_data/donald.txt')), 2)"
   ]
  },
  {
   "cell_type": "code",
   "execution_count": 5,
   "metadata": {},
   "outputs": [
    {
     "name": "stdout",
     "output_type": "stream",
     "text": [
      "parsing repo path\n"
     ]
    },
    {
     "data": {
      "text/plain": [
       "True"
      ]
     },
     "execution_count": 5,
     "metadata": {},
     "output_type": "execute_result"
    }
   ],
   "source": [
    "import os\n",
    "os.path.exists(str(PathManager('../stopwords/stopwordsKor.txt')))"
   ]
  },
  {
   "cell_type": "code",
   "execution_count": 6,
   "metadata": {},
   "outputs": [
    {
     "name": "stderr",
     "output_type": "stream",
     "text": [
      "[nltk_data] Downloading package punkt to /home/codespace/nltk_data...\n",
      "[nltk_data]   Package punkt is already up-to-date!\n"
     ]
    },
    {
     "data": {
      "text/plain": [
       "True"
      ]
     },
     "execution_count": 6,
     "metadata": {},
     "output_type": "execute_result"
    }
   ],
   "source": [
    "import nltk\n",
    "nltk.download('punkt')"
   ]
  },
  {
   "cell_type": "code",
   "execution_count": 7,
   "metadata": {},
   "outputs": [
    {
     "name": "stdout",
     "output_type": "stream",
     "text": [
      "parsing repo path\n"
     ]
    }
   ],
   "source": [
    "pipeline = ptm.Pipeline(ptm.splitter.NLTK(),\n",
    "                        ptm.tokenizer.Komoran(),\n",
    "                        ptm.helper.POSFilter('NN*'),\n",
    "                        ptm.helper.SelectWordOnly(),\n",
    "                        #ptm.ngram.NGramTokenizer(2, 2),\n",
    "                        ptm.helper.StopwordFilter(file=str(PathManager('../stopwords/stopwordsKor.txt'))),\n",
    "                        )\n"
   ]
  },
  {
   "cell_type": "code",
   "execution_count": 8,
   "metadata": {},
   "outputs": [
    {
     "name": "stdout",
     "output_type": "stream",
     "text": [
      "==  ==\n"
     ]
    }
   ],
   "source": [
    "result = pipeline.processCorpus(corpus)\n",
    "print('==  ==')\n"
   ]
  },
  {
   "cell_type": "code",
   "execution_count": 9,
   "metadata": {},
   "outputs": [],
   "source": [
    "\n",
    "documents = []\n",
    "for doc in result:\n",
    "    document = ''\n",
    "    for sent in doc:\n",
    "        document += \" \".join(sent)\n",
    "    documents.append(document)\n"
   ]
  },
  {
   "cell_type": "code",
   "execution_count": 10,
   "metadata": {},
   "outputs": [
    {
     "name": "stdout",
     "output_type": "stream",
     "text": [
      "120\n"
     ]
    }
   ],
   "source": [
    "\n",
    "print(len(documents))\n",
    "#name either k-means, agglo, spectral_cocluster\n",
    "name = 'k-means'\n",
    "clustering=DocumentClustering(k=5)\n"
   ]
  },
  {
   "cell_type": "code",
   "execution_count": 11,
   "metadata": {},
   "outputs": [],
   "source": [
    "\n",
    "#n_components means the number of words to be used as features\n",
    "clustering.make_matrix(documents,n_components=-1,doc2vec_matrix=None)\n"
   ]
  },
  {
   "cell_type": "code",
   "execution_count": 12,
   "metadata": {},
   "outputs": [
    {
     "name": "stdout",
     "output_type": "stream",
     "text": [
      "cluster_name k-means\n",
      "cluster_name: k-means\n",
      "Clustering sparse data with KMeans(max_iter=500, n_clusters=5, n_init=1)\n",
      "done in 0.046s\n",
      "\n"
     ]
    }
   ],
   "source": [
    "\n",
    "clustering.cluster(name)\n"
   ]
  },
  {
   "cell_type": "code",
   "execution_count": 13,
   "metadata": {},
   "outputs": [
    {
     "name": "stdout",
     "output_type": "stream",
     "text": [
      "k-means\n",
      "2 -- 0\n",
      "1 -- 1\n",
      "2 -- 2\n",
      "1 -- 3\n",
      "1 -- 4\n",
      "1 -- 5\n",
      "2 -- 6\n",
      "1 -- 7\n",
      "1 -- 8\n",
      "2 -- 9\n",
      "1 -- 10\n",
      "1 -- 11\n",
      "2 -- 12\n",
      "2 -- 13\n",
      "1 -- 14\n",
      "2 -- 15\n",
      "1 -- 16\n",
      "0 -- 17\n",
      "1 -- 18\n",
      "3 -- 19\n",
      "3 -- 20\n",
      "1 -- 21\n",
      "3 -- 22\n",
      "0 -- 23\n",
      "1 -- 24\n",
      "1 -- 25\n",
      "0 -- 26\n",
      "2 -- 27\n",
      "1 -- 28\n",
      "2 -- 29\n",
      "3 -- 30\n",
      "1 -- 31\n",
      "0 -- 32\n",
      "1 -- 33\n",
      "1 -- 34\n",
      "1 -- 35\n",
      "2 -- 36\n",
      "1 -- 37\n",
      "1 -- 38\n",
      "2 -- 39\n",
      "3 -- 40\n",
      "1 -- 41\n",
      "1 -- 42\n",
      "4 -- 43\n",
      "4 -- 44\n",
      "2 -- 45\n",
      "1 -- 46\n",
      "1 -- 47\n",
      "1 -- 48\n",
      "1 -- 49\n",
      "4 -- 50\n",
      "1 -- 51\n",
      "4 -- 52\n",
      "1 -- 53\n",
      "4 -- 54\n",
      "1 -- 55\n",
      "0 -- 56\n",
      "2 -- 57\n",
      "3 -- 58\n",
      "0 -- 59\n",
      "4 -- 60\n",
      "1 -- 61\n",
      "1 -- 62\n",
      "1 -- 63\n",
      "2 -- 64\n",
      "1 -- 65\n",
      "1 -- 66\n",
      "1 -- 67\n",
      "1 -- 68\n",
      "4 -- 69\n",
      "2 -- 70\n",
      "1 -- 71\n",
      "1 -- 72\n",
      "1 -- 73\n",
      "2 -- 74\n",
      "2 -- 75\n",
      "1 -- 76\n",
      "1 -- 77\n",
      "4 -- 78\n",
      "4 -- 79\n",
      "0 -- 80\n",
      "3 -- 81\n",
      "1 -- 82\n",
      "1 -- 83\n",
      "4 -- 84\n",
      "1 -- 85\n",
      "1 -- 86\n",
      "3 -- 87\n",
      "3 -- 88\n",
      "3 -- 89\n",
      "1 -- 90\n",
      "1 -- 91\n",
      "1 -- 92\n",
      "0 -- 93\n",
      "2 -- 94\n",
      "1 -- 95\n",
      "3 -- 96\n",
      "3 -- 97\n",
      "3 -- 98\n",
      "1 -- 99\n",
      "3 -- 100\n",
      "1 -- 101\n",
      "1 -- 102\n",
      "0 -- 103\n",
      "2 -- 104\n",
      "2 -- 105\n",
      "4 -- 106\n",
      "1 -- 107\n",
      "1 -- 108\n",
      "0 -- 109\n",
      "1 -- 110\n",
      "0 -- 111\n",
      "0 -- 112\n",
      "2 -- 113\n",
      "2 -- 114\n",
      "2 -- 115\n",
      "2 -- 116\n",
      "3 -- 117\n",
      "1 -- 118\n",
      "1 -- 119\n",
      "Cluster 0: 강경경화 동의 대한민국 감사 365 나라 생산 천명 속국 대낮보수\n",
      "Cluster 1: 문재인 com 대통령 be 가짜 교황 뉴스 김정은 지지 이재명\n",
      "Cluster 2: 한국 대통령 문재인 net 정부 예언 황선자 남북 안보 경제\n",
      "Cluster 3: 트럼프 김정은 승인 북한 정권 거문재인 미국 한국 정부 제재\n",
      "Cluster 4: 제재 대북 me 출처 네이버 뉴스 정부 증원 공무원 충돌\n"
     ]
    },
    {
     "data": {
      "image/png": "[encoded data removed]",
      "text/plain": [
       "<Figure size 640x480 with 1 Axes>"
      ]
     },
     "metadata": {},
     "output_type": "display_data"
    }
   ],
   "source": [
    "clustering.print_results()\n",
    "\n",
    "clustering.visualize()"
   ]
  }
 ],
 "metadata": {
  "kernelspec": {
   "display_name": "Python 3",
   "language": "python",
   "name": "python3"
  },
  "language_info": {
   "codemirror_mode": {
    "name": "ipython",
    "version": 3
   },
   "file_extension": ".py",
   "mimetype": "text/x-python",
   "name": "python",
   "nbconvert_exporter": "python",
   "pygments_lexer": "ipython3",
   "version": "3.10.4"
  },
  "orig_nbformat": 4
 },
 "nbformat": 4,
 "nbformat_minor": 2
}
